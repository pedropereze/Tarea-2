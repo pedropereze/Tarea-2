{
 "cells": [
  {
   "cell_type": "markdown",
   "metadata": {},
   "source": [
    "# Tarea 2\n",
    "\n",
    "Integrantes:\n",
    "* Juan Maulén \n",
    "* Pedro Pérez\n",
    "* Tomás Rojas"
   ]
  },
  {
   "cell_type": "code",
   "execution_count": 1,
   "metadata": {
    "ExecuteTime": {
     "end_time": "2020-07-05T05:02:17.697434Z",
     "start_time": "2020-07-05T05:02:15.990418Z"
    }
   },
   "outputs": [],
   "source": [
    "from torchvision.datasets import DatasetFolder\n",
    "import torch\n",
    "import random\n",
    "from PIL import Image\n",
    "import numpy as np\n",
    "from torchvision.transforms import ToTensor\n",
    "import matplotlib.pyplot as plt\n",
    "import glob\n",
    "from sklearn.model_selection import train_test_split"
   ]
  },
  {
   "cell_type": "code",
   "execution_count": 8,
   "metadata": {
    "ExecuteTime": {
     "end_time": "2020-07-05T05:02:17.732741Z",
     "start_time": "2020-07-05T05:02:17.709438Z"
    }
   },
   "outputs": [],
   "source": [
    "def random_rotation(im, theta):\n",
    "    theta = random.uniform(*theta)\n",
    "    return im.rotate(theta)\n",
    "\n",
    "def random_flip(im):\n",
    "    if bool(random.getrandbits(1)):\n",
    "        im.transpose(Image.FLIP_LEFT_RIGHT)\n",
    "    return im\n",
    "    \n",
    "def normalize_im(im):\n",
    "    im = np.asarray(im)\n",
    "    \n",
    "def loader(path):\n",
    "    transformation = ToTensor()\n",
    "    \n",
    "    im = Image.open(path).resize((224, 224))  # escalamiento de la imagen\n",
    "    im = random_flip(im)  # reflexion de la imagen\n",
    "    im = random_rotation(im, (-20, 20))  # rotacion aleatoria de la imagen\n",
    "    \n",
    "    \n",
    "    tensor = transformation(im)  # se transforma la imagen a un tensor\n",
    "    if tensor.shape[0] == 1:\n",
    "        tensor = tensor.repeat(3, 1, 1)\n",
    "    \n",
    "    rand_tensor = (1.5 - 1.2) * torch.rand((3, 224, 224)) + 1.2\n",
    "    return tensor * rand_tensor\n"
   ]
  },
  {
   "cell_type": "code",
   "execution_count": 9,
   "metadata": {
    "ExecuteTime": {
     "end_time": "2020-07-05T05:29:15.075045Z",
     "start_time": "2020-07-05T05:29:15.005550Z"
    }
   },
   "outputs": [],
   "source": [
    "data_train = DatasetFolder('./chest_xray/train', loader=loader, extensions='.jpeg')\n",
    "data_test = DatasetFolder('./chest_xray/test', loader=loader, extensions='.jpeg')"
   ]
  },
  {
   "cell_type": "code",
   "execution_count": 4,
   "metadata": {
    "ExecuteTime": {
     "end_time": "2020-07-05T05:02:18.803757Z",
     "start_time": "2020-07-05T05:02:17.912552Z"
    }
   },
   "outputs": [
    {
     "data": {
      "text/plain": [
       "<BarContainer object of 2 artists>"
      ]
     },
     "execution_count": 4,
     "metadata": {},
     "output_type": "execute_result"
    },
    {
     "data": {
      "image/png": "[encoded data removed]",
      "text/plain": [
       "<Figure size 720x360 with 1 Axes>"
      ]
     },
     "metadata": {
      "needs_background": "light"
     },
     "output_type": "display_data"
    }
   ],
   "source": [
    "n_test = len(data_test)\n",
    "n_train = len(data_train)\n",
    "plt.figure(figsize=(10,5))\n",
    "plt.bar(['test', 'train'], [n_train, n_test])"
   ]
  },
  {
   "cell_type": "code",
   "execution_count": 5,
   "metadata": {},
   "outputs": [],
   "source": [
    "# train test split\n",
    "train, test = len(data_train) - int(len(data_train) * .2),  int(len(data_train) * .2)  \n",
    "train, test = torch.utils.data.random_split(data_train, [train, test])"
   ]
  },
  {
   "cell_type": "code",
   "execution_count": 6,
   "metadata": {},
   "outputs": [],
   "source": [
    "#P2"
   ]
  },
  {
   "cell_type": "code",
   "execution_count": 7,
   "metadata": {},
   "outputs": [],
   "source": [
    "#P3"
   ]
  }
 ],
 "metadata": {
  "kernelspec": {
   "display_name": "Python 3",
   "language": "python",
   "name": "python3"
  },
  "language_info": {
   "codemirror_mode": {
    "name": "ipython",
    "version": 3
   },
   "file_extension": ".py",
   "mimetype": "text/x-python",
   "name": "python",
   "nbconvert_exporter": "python",
   "pygments_lexer": "ipython3",
   "version": "3.7.8"
  },
  "toc": {
   "base_numbering": 1,
   "nav_menu": {},
   "number_sections": true,
   "sideBar": true,
   "skip_h1_title": false,
   "title_cell": "Table of Contents",
   "title_sidebar": "Contents",
   "toc_cell": false,
   "toc_position": {},
   "toc_section_display": true,
   "toc_window_display": false
  }
 },
 "nbformat": 4,
 "nbformat_minor": 4
}
